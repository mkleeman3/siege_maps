{
 "cells": [
  {
   "cell_type": "code",
   "execution_count": 8,
   "id": "ba8a066e-9502-4bca-8473-036f4d20d80e",
   "metadata": {},
   "outputs": [],
   "source": [
    "# https://towardsdatascience.com/creating-an-interactive-map-in-python-using-bokeh-and-pandas-f84414536a06\n",
    "\n",
    "from bokeh.io import output_notebook, show, output_file\n",
    "from bokeh.plotting import figure, ColumnDataSource\n",
    "from bokeh.tile_providers import get_provider, Vendors\n",
    "from bokeh.palettes import PRGn, RdYlGn\n",
    "from bokeh.transform import linear_cmap,factor_cmap\n",
    "from bokeh.layouts import row, column\n",
    "from bokeh.models import GeoJSONDataSource, LinearColorMapper, ColorBar, NumeralTickFormatter\n",
    "import numpy as np\n",
    "import pandas as pd"
   ]
  },
  {
   "cell_type": "code",
   "execution_count": 9,
   "id": "252c97b3-e3ac-4ebe-975b-eaded88e6ae9",
   "metadata": {},
   "outputs": [],
   "source": [
    "sieges_df = pd.read_csv('sieges.csv', index_col=0, encoding='cp1252')"
   ]
  },
  {
   "cell_type": "code",
   "execution_count": 10,
   "id": "e53df020-ff35-4467-9a5e-03e6056cc5ac",
   "metadata": {},
   "outputs": [
    {
     "data": {
      "text/html": [
       "<div>\n",
       "<style scoped>\n",
       "    .dataframe tbody tr th:only-of-type {\n",
       "        vertical-align: middle;\n",
       "    }\n",
       "\n",
       "    .dataframe tbody tr th {\n",
       "        vertical-align: top;\n",
       "    }\n",
       "\n",
       "    .dataframe thead th {\n",
       "        text-align: right;\n",
       "    }\n",
       "</style>\n",
       "<table border=\"1\" class=\"dataframe\">\n",
       "  <thead>\n",
       "    <tr style=\"text-align: right;\">\n",
       "      <th></th>\n",
       "      <th>Siege</th>\n",
       "      <th>Conflict</th>\n",
       "      <th>Year</th>\n",
       "      <th>Casualties</th>\n",
       "      <th>lon</th>\n",
       "      <th>lat</th>\n",
       "    </tr>\n",
       "  </thead>\n",
       "  <tbody>\n",
       "    <tr>\n",
       "      <th>1</th>\n",
       "      <td>Siege of Sidon</td>\n",
       "      <td>Phoenician rebellion against Persia</td>\n",
       "      <td>-343</td>\n",
       "      <td>40000</td>\n",
       "      <td>35.372948</td>\n",
       "      <td>33.557069</td>\n",
       "    </tr>\n",
       "    <tr>\n",
       "      <th>2</th>\n",
       "      <td>Siege of Jerusalem</td>\n",
       "      <td>First Jewish–Roman War</td>\n",
       "      <td>70</td>\n",
       "      <td>65000</td>\n",
       "      <td>35.213710</td>\n",
       "      <td>31.768319</td>\n",
       "    </tr>\n",
       "    <tr>\n",
       "      <th>3</th>\n",
       "      <td>Siege of Constantinople</td>\n",
       "      <td>Arab–Byzantine wars</td>\n",
       "      <td>717</td>\n",
       "      <td>150000</td>\n",
       "      <td>28.978359</td>\n",
       "      <td>41.008238</td>\n",
       "    </tr>\n",
       "    <tr>\n",
       "      <th>4</th>\n",
       "      <td>Siege of Jerusalem</td>\n",
       "      <td>First Crusade</td>\n",
       "      <td>1099</td>\n",
       "      <td>40000</td>\n",
       "      <td>35.213710</td>\n",
       "      <td>31.768319</td>\n",
       "    </tr>\n",
       "    <tr>\n",
       "      <th>5</th>\n",
       "      <td>Siege of Baghdad</td>\n",
       "      <td>Mongol conquests</td>\n",
       "      <td>1258</td>\n",
       "      <td>1175000</td>\n",
       "      <td>44.361488</td>\n",
       "      <td>33.312806</td>\n",
       "    </tr>\n",
       "  </tbody>\n",
       "</table>\n",
       "</div>"
      ],
      "text/plain": [
       "                     Siege                             Conflict  Year  \\\n",
       "1           Siege of Sidon  Phoenician rebellion against Persia  -343   \n",
       "2       Siege of Jerusalem               First Jewish–Roman War    70   \n",
       "3  Siege of Constantinople                  Arab–Byzantine wars   717   \n",
       "4       Siege of Jerusalem                        First Crusade  1099   \n",
       "5         Siege of Baghdad                     Mongol conquests  1258   \n",
       "\n",
       "   Casualties        lon        lat  \n",
       "1       40000  35.372948  33.557069  \n",
       "2       65000  35.213710  31.768319  \n",
       "3      150000  28.978359  41.008238  \n",
       "4       40000  35.213710  31.768319  \n",
       "5     1175000  44.361488  33.312806  "
      ]
     },
     "execution_count": 10,
     "metadata": {},
     "output_type": "execute_result"
    }
   ],
   "source": [
    "sieges_df.head()"
   ]
  },
  {
   "cell_type": "code",
   "execution_count": 11,
   "id": "3fd38605-5e1c-403f-b2f3-181dd469cd5f",
   "metadata": {},
   "outputs": [],
   "source": [
    "# Define function to switch from lat/long to mercator coordinates\n",
    "\n",
    "def x_coord(x, y):\n",
    "    \n",
    "    lat = x\n",
    "    lon = y\n",
    "    \n",
    "    r_major = 6378137.000\n",
    "    x = r_major * np.radians(lon)\n",
    "    scale = x/lon\n",
    "    y = 180.0/np.pi * np.log(np.tan(np.pi/4.0 + \n",
    "        lat * (np.pi/180.0)/2.0)) * scale\n",
    "    return (x, y)\n",
    "\n",
    "# Define coord as tuple (lat,long)\n",
    "\n",
    "sieges_df['coordinates'] = list(zip(sieges_df['lat'], sieges_df['lon']))\n",
    "\n",
    "# Obtain list of mercator coordinates\n",
    "\n",
    "mercators = [x_coord(x, y) for x, y in sieges_df['coordinates'] ]"
   ]
  },
  {
   "cell_type": "code",
   "execution_count": 12,
   "id": "683ef6e1-cca6-4064-b0e7-33f75558b4ea",
   "metadata": {},
   "outputs": [],
   "source": [
    "# Create mercator column in our df\n",
    "\n",
    "sieges_df['mercator'] = mercators\n",
    "\n",
    "# Split that column out into two separate columns - mercator_x and mercator_y\n",
    "\n",
    "sieges_df[['mercator_x', 'mercator_y']] = sieges_df['mercator'].apply(pd.Series)"
   ]
  },
  {
   "cell_type": "code",
   "execution_count": 13,
   "id": "e408ea17-286d-4cff-ac12-28f8acfae63c",
   "metadata": {},
   "outputs": [
    {
     "data": {
      "text/html": [
       "<div>\n",
       "<style scoped>\n",
       "    .dataframe tbody tr th:only-of-type {\n",
       "        vertical-align: middle;\n",
       "    }\n",
       "\n",
       "    .dataframe tbody tr th {\n",
       "        vertical-align: top;\n",
       "    }\n",
       "\n",
       "    .dataframe thead th {\n",
       "        text-align: right;\n",
       "    }\n",
       "</style>\n",
       "<table border=\"1\" class=\"dataframe\">\n",
       "  <thead>\n",
       "    <tr style=\"text-align: right;\">\n",
       "      <th></th>\n",
       "      <th>Siege</th>\n",
       "      <th>Conflict</th>\n",
       "      <th>Year</th>\n",
       "      <th>Casualties</th>\n",
       "      <th>lon</th>\n",
       "      <th>lat</th>\n",
       "      <th>coordinates</th>\n",
       "      <th>mercator</th>\n",
       "      <th>mercator_x</th>\n",
       "      <th>mercator_y</th>\n",
       "    </tr>\n",
       "  </thead>\n",
       "  <tbody>\n",
       "    <tr>\n",
       "      <th>1</th>\n",
       "      <td>Siege of Sidon</td>\n",
       "      <td>Phoenician rebellion against Persia</td>\n",
       "      <td>-343</td>\n",
       "      <td>40000</td>\n",
       "      <td>35.372948</td>\n",
       "      <td>33.557069</td>\n",
       "      <td>(33.5570691, 35.372948)</td>\n",
       "      <td>(3937698.559216945, 3969481.16396569)</td>\n",
       "      <td>3.937699e+06</td>\n",
       "      <td>3.969481e+06</td>\n",
       "    </tr>\n",
       "    <tr>\n",
       "      <th>2</th>\n",
       "      <td>Siege of Jerusalem</td>\n",
       "      <td>First Jewish–Roman War</td>\n",
       "      <td>70</td>\n",
       "      <td>65000</td>\n",
       "      <td>35.213710</td>\n",
       "      <td>31.768319</td>\n",
       "      <td>(31.768319, 35.21371)</td>\n",
       "      <td>(3919972.266142005, 3732937.169451003)</td>\n",
       "      <td>3.919972e+06</td>\n",
       "      <td>3.732937e+06</td>\n",
       "    </tr>\n",
       "    <tr>\n",
       "      <th>3</th>\n",
       "      <td>Siege of Constantinople</td>\n",
       "      <td>Arab–Byzantine wars</td>\n",
       "      <td>717</td>\n",
       "      <td>150000</td>\n",
       "      <td>28.978359</td>\n",
       "      <td>41.008238</td>\n",
       "      <td>(41.0082376, 28.9783589)</td>\n",
       "      <td>(3225856.156772727, 5013556.783905713)</td>\n",
       "      <td>3.225856e+06</td>\n",
       "      <td>5.013557e+06</td>\n",
       "    </tr>\n",
       "    <tr>\n",
       "      <th>4</th>\n",
       "      <td>Siege of Jerusalem</td>\n",
       "      <td>First Crusade</td>\n",
       "      <td>1099</td>\n",
       "      <td>40000</td>\n",
       "      <td>35.213710</td>\n",
       "      <td>31.768319</td>\n",
       "      <td>(31.768319, 35.21371)</td>\n",
       "      <td>(3919972.266142005, 3732937.169451003)</td>\n",
       "      <td>3.919972e+06</td>\n",
       "      <td>3.732937e+06</td>\n",
       "    </tr>\n",
       "    <tr>\n",
       "      <th>5</th>\n",
       "      <td>Siege of Baghdad</td>\n",
       "      <td>Mongol conquests</td>\n",
       "      <td>1258</td>\n",
       "      <td>1175000</td>\n",
       "      <td>44.361488</td>\n",
       "      <td>33.312806</td>\n",
       "      <td>(33.3128057, 44.3614875)</td>\n",
       "      <td>(4938298.199332171, 3936897.672595947)</td>\n",
       "      <td>4.938298e+06</td>\n",
       "      <td>3.936898e+06</td>\n",
       "    </tr>\n",
       "  </tbody>\n",
       "</table>\n",
       "</div>"
      ],
      "text/plain": [
       "                     Siege                             Conflict  Year  \\\n",
       "1           Siege of Sidon  Phoenician rebellion against Persia  -343   \n",
       "2       Siege of Jerusalem               First Jewish–Roman War    70   \n",
       "3  Siege of Constantinople                  Arab–Byzantine wars   717   \n",
       "4       Siege of Jerusalem                        First Crusade  1099   \n",
       "5         Siege of Baghdad                     Mongol conquests  1258   \n",
       "\n",
       "   Casualties        lon        lat               coordinates  \\\n",
       "1       40000  35.372948  33.557069   (33.5570691, 35.372948)   \n",
       "2       65000  35.213710  31.768319     (31.768319, 35.21371)   \n",
       "3      150000  28.978359  41.008238  (41.0082376, 28.9783589)   \n",
       "4       40000  35.213710  31.768319     (31.768319, 35.21371)   \n",
       "5     1175000  44.361488  33.312806  (33.3128057, 44.3614875)   \n",
       "\n",
       "                                 mercator    mercator_x    mercator_y  \n",
       "1   (3937698.559216945, 3969481.16396569)  3.937699e+06  3.969481e+06  \n",
       "2  (3919972.266142005, 3732937.169451003)  3.919972e+06  3.732937e+06  \n",
       "3  (3225856.156772727, 5013556.783905713)  3.225856e+06  5.013557e+06  \n",
       "4  (3919972.266142005, 3732937.169451003)  3.919972e+06  3.732937e+06  \n",
       "5  (4938298.199332171, 3936897.672595947)  4.938298e+06  3.936898e+06  "
      ]
     },
     "execution_count": 13,
     "metadata": {},
     "output_type": "execute_result"
    }
   ],
   "source": [
    "sieges_df.head()"
   ]
  },
  {
   "cell_type": "code",
   "execution_count": 24,
   "id": "570ea630-e9d6-4425-92e5-43bb5a39c5c0",
   "metadata": {},
   "outputs": [],
   "source": [
    "# Select tile set to use\n",
    "\n",
    "chosentile = get_provider(Vendors.STAMEN_TONER)"
   ]
  },
  {
   "cell_type": "code",
   "execution_count": 25,
   "id": "0e1da41f-4c2b-4d7d-af07-2dd53b6c3926",
   "metadata": {},
   "outputs": [],
   "source": [
    "# Choose palette\n",
    "\n",
    "palette = PRGn[11]"
   ]
  },
  {
   "cell_type": "code",
   "execution_count": 26,
   "id": "4d724ee0-6e97-42fc-a6f8-637d401297b0",
   "metadata": {},
   "outputs": [],
   "source": [
    "# Tell Bokeh to use df as the source of the data\n",
    "\n",
    "source = ColumnDataSource(data=sieges_df)"
   ]
  },
  {
   "cell_type": "code",
   "execution_count": 27,
   "id": "967e37c2-3316-45f4-a038-47aa70bf18cd",
   "metadata": {},
   "outputs": [],
   "source": [
    "# Define color mapper - which column will define the colour of the data points\n",
    "\n",
    "color_mapper = linear_cmap(field_name = 'Casualties', palette = palette, low = sieges_df['Casualties'].min(), high = sieges_df['Casualties'].max())"
   ]
  },
  {
   "cell_type": "code",
   "execution_count": 43,
   "id": "eadedaf8-b33d-4e8a-a0a2-4a659bc6da61",
   "metadata": {},
   "outputs": [],
   "source": [
    "# Set tooltips - these appear when we hover over a data point in our map, very nifty and very useful\n",
    "\n",
    "tooltips = [('Casualties','@Casualties'), ('Siege','@Siege'), ('Year','@Year')]"
   ]
  },
  {
   "cell_type": "code",
   "execution_count": 44,
   "id": "2efad978-e6f7-4a1d-be4f-0159136126c1",
   "metadata": {},
   "outputs": [],
   "source": [
    "# Create figure\n",
    "\n",
    "p = figure(title = 'Historical Battles & Sieges by Number of Casualties', x_axis_type=\"mercator\", y_axis_type=\"mercator\", x_axis_label = 'Longitude', y_axis_label = 'Latitude', tooltips = tooltips)"
   ]
  },
  {
   "cell_type": "code",
   "execution_count": 45,
   "id": "12c8ffa0-c6f5-4b0c-b070-179112f31a3c",
   "metadata": {},
   "outputs": [
    {
     "data": {
      "text/html": [
       "<div style=\"display: table;\"><div style=\"display: table-row;\"><div style=\"display: table-cell;\"><b title=\"bokeh.models.renderers.TileRenderer\">TileRenderer</b>(</div><div style=\"display: table-cell;\">id&nbsp;=&nbsp;'1845', <span id=\"1848\" style=\"cursor: pointer;\">&hellip;)</span></div></div><div class=\"1847\" style=\"display: none;\"><div style=\"display: table-cell;\"></div><div style=\"display: table-cell;\">alpha&nbsp;=&nbsp;1.0,</div></div><div class=\"1847\" style=\"display: none;\"><div style=\"display: table-cell;\"></div><div style=\"display: table-cell;\">coordinates&nbsp;=&nbsp;None,</div></div><div class=\"1847\" style=\"display: none;\"><div style=\"display: table-cell;\"></div><div style=\"display: table-cell;\">group&nbsp;=&nbsp;None,</div></div><div class=\"1847\" style=\"display: none;\"><div style=\"display: table-cell;\"></div><div style=\"display: table-cell;\">js_event_callbacks&nbsp;=&nbsp;{},</div></div><div class=\"1847\" style=\"display: none;\"><div style=\"display: table-cell;\"></div><div style=\"display: table-cell;\">js_property_callbacks&nbsp;=&nbsp;{},</div></div><div class=\"1847\" style=\"display: none;\"><div style=\"display: table-cell;\"></div><div style=\"display: table-cell;\">level&nbsp;=&nbsp;'image',</div></div><div class=\"1847\" style=\"display: none;\"><div style=\"display: table-cell;\"></div><div style=\"display: table-cell;\">name&nbsp;=&nbsp;None,</div></div><div class=\"1847\" style=\"display: none;\"><div style=\"display: table-cell;\"></div><div style=\"display: table-cell;\">render_parents&nbsp;=&nbsp;True,</div></div><div class=\"1847\" style=\"display: none;\"><div style=\"display: table-cell;\"></div><div style=\"display: table-cell;\">smoothing&nbsp;=&nbsp;True,</div></div><div class=\"1847\" style=\"display: none;\"><div style=\"display: table-cell;\"></div><div style=\"display: table-cell;\">subscribed_events&nbsp;=&nbsp;[],</div></div><div class=\"1847\" style=\"display: none;\"><div style=\"display: table-cell;\"></div><div style=\"display: table-cell;\">syncable&nbsp;=&nbsp;True,</div></div><div class=\"1847\" style=\"display: none;\"><div style=\"display: table-cell;\"></div><div style=\"display: table-cell;\">tags&nbsp;=&nbsp;[],</div></div><div class=\"1847\" style=\"display: none;\"><div style=\"display: table-cell;\"></div><div style=\"display: table-cell;\">tile_source&nbsp;=&nbsp;WMTSTileSource(id='1063', ...),</div></div><div class=\"1847\" style=\"display: none;\"><div style=\"display: table-cell;\"></div><div style=\"display: table-cell;\">visible&nbsp;=&nbsp;True,</div></div><div class=\"1847\" style=\"display: none;\"><div style=\"display: table-cell;\"></div><div style=\"display: table-cell;\">x_range_name&nbsp;=&nbsp;'default',</div></div><div class=\"1847\" style=\"display: none;\"><div style=\"display: table-cell;\"></div><div style=\"display: table-cell;\">y_range_name&nbsp;=&nbsp;'default')</div></div></div>\n",
       "<script>\n",
       "(function() {\n",
       "  let expanded = false;\n",
       "  const ellipsis = document.getElementById(\"1848\");\n",
       "  ellipsis.addEventListener(\"click\", function() {\n",
       "    const rows = document.getElementsByClassName(\"1847\");\n",
       "    for (let i = 0; i < rows.length; i++) {\n",
       "      const el = rows[i];\n",
       "      el.style.display = expanded ? \"none\" : \"table-row\";\n",
       "    }\n",
       "    ellipsis.innerHTML = expanded ? \"&hellip;)\" : \"&lsaquo;&lsaquo;&lsaquo;\";\n",
       "    expanded = !expanded;\n",
       "  });\n",
       "})();\n",
       "</script>\n"
      ],
      "text/plain": [
       "TileRenderer(id='1845', ...)"
      ]
     },
     "execution_count": 45,
     "metadata": {},
     "output_type": "execute_result"
    }
   ],
   "source": [
    "# Add map tile\n",
    "\n",
    "p.add_tile(chosentile)"
   ]
  },
  {
   "cell_type": "code",
   "execution_count": 46,
   "id": "022e2e19-c0a0-4f94-909b-03a2a81930d6",
   "metadata": {},
   "outputs": [
    {
     "data": {
      "text/html": [
       "<div style=\"display: table;\"><div style=\"display: table-row;\"><div style=\"display: table-cell;\"><b title=\"bokeh.models.renderers.GlyphRenderer\">GlyphRenderer</b>(</div><div style=\"display: table-cell;\">id&nbsp;=&nbsp;'1853', <span id=\"1856\" style=\"cursor: pointer;\">&hellip;)</span></div></div><div class=\"1855\" style=\"display: none;\"><div style=\"display: table-cell;\"></div><div style=\"display: table-cell;\">coordinates&nbsp;=&nbsp;None,</div></div><div class=\"1855\" style=\"display: none;\"><div style=\"display: table-cell;\"></div><div style=\"display: table-cell;\">data_source&nbsp;=&nbsp;ColumnDataSource(id='1064', ...),</div></div><div class=\"1855\" style=\"display: none;\"><div style=\"display: table-cell;\"></div><div style=\"display: table-cell;\">glyph&nbsp;=&nbsp;Circle(id='1850', ...),</div></div><div class=\"1855\" style=\"display: none;\"><div style=\"display: table-cell;\"></div><div style=\"display: table-cell;\">group&nbsp;=&nbsp;None,</div></div><div class=\"1855\" style=\"display: none;\"><div style=\"display: table-cell;\"></div><div style=\"display: table-cell;\">hover_glyph&nbsp;=&nbsp;None,</div></div><div class=\"1855\" style=\"display: none;\"><div style=\"display: table-cell;\"></div><div style=\"display: table-cell;\">js_event_callbacks&nbsp;=&nbsp;{},</div></div><div class=\"1855\" style=\"display: none;\"><div style=\"display: table-cell;\"></div><div style=\"display: table-cell;\">js_property_callbacks&nbsp;=&nbsp;{},</div></div><div class=\"1855\" style=\"display: none;\"><div style=\"display: table-cell;\"></div><div style=\"display: table-cell;\">level&nbsp;=&nbsp;'glyph',</div></div><div class=\"1855\" style=\"display: none;\"><div style=\"display: table-cell;\"></div><div style=\"display: table-cell;\">muted&nbsp;=&nbsp;False,</div></div><div class=\"1855\" style=\"display: none;\"><div style=\"display: table-cell;\"></div><div style=\"display: table-cell;\">muted_glyph&nbsp;=&nbsp;Circle(id='1852', ...),</div></div><div class=\"1855\" style=\"display: none;\"><div style=\"display: table-cell;\"></div><div style=\"display: table-cell;\">name&nbsp;=&nbsp;None,</div></div><div class=\"1855\" style=\"display: none;\"><div style=\"display: table-cell;\"></div><div style=\"display: table-cell;\">nonselection_glyph&nbsp;=&nbsp;Circle(id='1851', ...),</div></div><div class=\"1855\" style=\"display: none;\"><div style=\"display: table-cell;\"></div><div style=\"display: table-cell;\">selection_glyph&nbsp;=&nbsp;'auto',</div></div><div class=\"1855\" style=\"display: none;\"><div style=\"display: table-cell;\"></div><div style=\"display: table-cell;\">subscribed_events&nbsp;=&nbsp;[],</div></div><div class=\"1855\" style=\"display: none;\"><div style=\"display: table-cell;\"></div><div style=\"display: table-cell;\">syncable&nbsp;=&nbsp;True,</div></div><div class=\"1855\" style=\"display: none;\"><div style=\"display: table-cell;\"></div><div style=\"display: table-cell;\">tags&nbsp;=&nbsp;[],</div></div><div class=\"1855\" style=\"display: none;\"><div style=\"display: table-cell;\"></div><div style=\"display: table-cell;\">view&nbsp;=&nbsp;CDSView(id='1854', ...),</div></div><div class=\"1855\" style=\"display: none;\"><div style=\"display: table-cell;\"></div><div style=\"display: table-cell;\">visible&nbsp;=&nbsp;True,</div></div><div class=\"1855\" style=\"display: none;\"><div style=\"display: table-cell;\"></div><div style=\"display: table-cell;\">x_range_name&nbsp;=&nbsp;'default',</div></div><div class=\"1855\" style=\"display: none;\"><div style=\"display: table-cell;\"></div><div style=\"display: table-cell;\">y_range_name&nbsp;=&nbsp;'default')</div></div></div>\n",
       "<script>\n",
       "(function() {\n",
       "  let expanded = false;\n",
       "  const ellipsis = document.getElementById(\"1856\");\n",
       "  ellipsis.addEventListener(\"click\", function() {\n",
       "    const rows = document.getElementsByClassName(\"1855\");\n",
       "    for (let i = 0; i < rows.length; i++) {\n",
       "      const el = rows[i];\n",
       "      el.style.display = expanded ? \"none\" : \"table-row\";\n",
       "    }\n",
       "    ellipsis.innerHTML = expanded ? \"&hellip;)\" : \"&lsaquo;&lsaquo;&lsaquo;\";\n",
       "    expanded = !expanded;\n",
       "  });\n",
       "})();\n",
       "</script>\n"
      ],
      "text/plain": [
       "GlyphRenderer(id='1853', ...)"
      ]
     },
     "execution_count": 46,
     "metadata": {},
     "output_type": "execute_result"
    }
   ],
   "source": [
    "# Add points using mercator coordinates\n",
    "\n",
    "p.circle(x = 'mercator_x', y = 'mercator_y', color = color_mapper, source=source, size=30, fill_alpha = 0.7)"
   ]
  },
  {
   "cell_type": "code",
   "execution_count": 47,
   "id": "56109411-6cc5-41b2-845e-d1710b628f1e",
   "metadata": {},
   "outputs": [],
   "source": [
    "#Defines color bar\n",
    "\n",
    "color_bar = ColorBar(color_mapper=color_mapper['transform'], \n",
    "                     formatter = NumeralTickFormatter(format='0.0[0000]'), \n",
    "                     label_standoff = 13, width=8, location=(0,0))\n",
    "\n",
    "# Set color_bar location\n",
    "\n",
    "p.add_layout(color_bar, 'right')"
   ]
  },
  {
   "cell_type": "code",
   "execution_count": 48,
   "id": "fd1c1276-42e7-4308-b80e-43d6b2041b87",
   "metadata": {},
   "outputs": [
    {
     "data": {
      "text/html": [
       "\n",
       "    <div class=\"bk-root\">\n",
       "        <a href=\"https://bokeh.org\" target=\"_blank\" class=\"bk-logo bk-logo-small bk-logo-notebook\"></a>\n",
       "        <span id=\"1859\">Loading BokehJS ...</span>\n",
       "    </div>"
      ]
     },
     "metadata": {},
     "output_type": "display_data"
    },
    {
     "data": {
      "application/javascript": "\n(function(root) {\n  function now() {\n    return new Date();\n  }\n\n  const force = true;\n\n  if (typeof root._bokeh_onload_callbacks === \"undefined\" || force === true) {\n    root._bokeh_onload_callbacks = [];\n    root._bokeh_is_loading = undefined;\n  }\n\n  const JS_MIME_TYPE = 'application/javascript';\n  const HTML_MIME_TYPE = 'text/html';\n  const EXEC_MIME_TYPE = 'application/vnd.bokehjs_exec.v0+json';\n  const CLASS_NAME = 'output_bokeh rendered_html';\n\n  /**\n   * Render data to the DOM node\n   */\n  function render(props, node) {\n    const script = document.createElement(\"script\");\n    node.appendChild(script);\n  }\n\n  /**\n   * Handle when an output is cleared or removed\n   */\n  function handleClearOutput(event, handle) {\n    const cell = handle.cell;\n\n    const id = cell.output_area._bokeh_element_id;\n    const server_id = cell.output_area._bokeh_server_id;\n    // Clean up Bokeh references\n    if (id != null && id in Bokeh.index) {\n      Bokeh.index[id].model.document.clear();\n      delete Bokeh.index[id];\n    }\n\n    if (server_id !== undefined) {\n      // Clean up Bokeh references\n      const cmd_clean = \"from bokeh.io.state import curstate; print(curstate().uuid_to_server['\" + server_id + \"'].get_sessions()[0].document.roots[0]._id)\";\n      cell.notebook.kernel.execute(cmd_clean, {\n        iopub: {\n          output: function(msg) {\n            const id = msg.content.text.trim();\n            if (id in Bokeh.index) {\n              Bokeh.index[id].model.document.clear();\n              delete Bokeh.index[id];\n            }\n          }\n        }\n      });\n      // Destroy server and session\n      const cmd_destroy = \"import bokeh.io.notebook as ion; ion.destroy_server('\" + server_id + \"')\";\n      cell.notebook.kernel.execute(cmd_destroy);\n    }\n  }\n\n  /**\n   * Handle when a new output is added\n   */\n  function handleAddOutput(event, handle) {\n    const output_area = handle.output_area;\n    const output = handle.output;\n\n    // limit handleAddOutput to display_data with EXEC_MIME_TYPE content only\n    if ((output.output_type != \"display_data\") || (!Object.prototype.hasOwnProperty.call(output.data, EXEC_MIME_TYPE))) {\n      return\n    }\n\n    const toinsert = output_area.element.find(\".\" + CLASS_NAME.split(' ')[0]);\n\n    if (output.metadata[EXEC_MIME_TYPE][\"id\"] !== undefined) {\n      toinsert[toinsert.length - 1].firstChild.textContent = output.data[JS_MIME_TYPE];\n      // store reference to embed id on output_area\n      output_area._bokeh_element_id = output.metadata[EXEC_MIME_TYPE][\"id\"];\n    }\n    if (output.metadata[EXEC_MIME_TYPE][\"server_id\"] !== undefined) {\n      const bk_div = document.createElement(\"div\");\n      bk_div.innerHTML = output.data[HTML_MIME_TYPE];\n      const script_attrs = bk_div.children[0].attributes;\n      for (let i = 0; i < script_attrs.length; i++) {\n        toinsert[toinsert.length - 1].firstChild.setAttribute(script_attrs[i].name, script_attrs[i].value);\n        toinsert[toinsert.length - 1].firstChild.textContent = bk_div.children[0].textContent\n      }\n      // store reference to server id on output_area\n      output_area._bokeh_server_id = output.metadata[EXEC_MIME_TYPE][\"server_id\"];\n    }\n  }\n\n  function register_renderer(events, OutputArea) {\n\n    function append_mime(data, metadata, element) {\n      // create a DOM node to render to\n      const toinsert = this.create_output_subarea(\n        metadata,\n        CLASS_NAME,\n        EXEC_MIME_TYPE\n      );\n      this.keyboard_manager.register_events(toinsert);\n      // Render to node\n      const props = {data: data, metadata: metadata[EXEC_MIME_TYPE]};\n      render(props, toinsert[toinsert.length - 1]);\n      element.append(toinsert);\n      return toinsert\n    }\n\n    /* Handle when an output is cleared or removed */\n    events.on('clear_output.CodeCell', handleClearOutput);\n    events.on('delete.Cell', handleClearOutput);\n\n    /* Handle when a new output is added */\n    events.on('output_added.OutputArea', handleAddOutput);\n\n    /**\n     * Register the mime type and append_mime function with output_area\n     */\n    OutputArea.prototype.register_mime_type(EXEC_MIME_TYPE, append_mime, {\n      /* Is output safe? */\n      safe: true,\n      /* Index of renderer in `output_area.display_order` */\n      index: 0\n    });\n  }\n\n  // register the mime type if in Jupyter Notebook environment and previously unregistered\n  if (root.Jupyter !== undefined) {\n    const events = require('base/js/events');\n    const OutputArea = require('notebook/js/outputarea').OutputArea;\n\n    if (OutputArea.prototype.mime_types().indexOf(EXEC_MIME_TYPE) == -1) {\n      register_renderer(events, OutputArea);\n    }\n  }\n\n  \n  if (typeof (root._bokeh_timeout) === \"undefined\" || force === true) {\n    root._bokeh_timeout = Date.now() + 5000;\n    root._bokeh_failed_load = false;\n  }\n\n  const NB_LOAD_WARNING = {'data': {'text/html':\n     \"<div style='background-color: #fdd'>\\n\"+\n     \"<p>\\n\"+\n     \"BokehJS does not appear to have successfully loaded. If loading BokehJS from CDN, this \\n\"+\n     \"may be due to a slow or bad network connection. Possible fixes:\\n\"+\n     \"</p>\\n\"+\n     \"<ul>\\n\"+\n     \"<li>re-rerun `output_notebook()` to attempt to load from CDN again, or</li>\\n\"+\n     \"<li>use INLINE resources instead, as so:</li>\\n\"+\n     \"</ul>\\n\"+\n     \"<code>\\n\"+\n     \"from bokeh.resources import INLINE\\n\"+\n     \"output_notebook(resources=INLINE)\\n\"+\n     \"</code>\\n\"+\n     \"</div>\"}};\n\n  function display_loaded() {\n    const el = document.getElementById(\"1859\");\n    if (el != null) {\n      el.textContent = \"BokehJS is loading...\";\n    }\n    if (root.Bokeh !== undefined) {\n      if (el != null) {\n        el.textContent = \"BokehJS \" + root.Bokeh.version + \" successfully loaded.\";\n      }\n    } else if (Date.now() < root._bokeh_timeout) {\n      setTimeout(display_loaded, 100)\n    }\n  }\n\n\n  function run_callbacks() {\n    try {\n      root._bokeh_onload_callbacks.forEach(function(callback) {\n        if (callback != null)\n          callback();\n      });\n    } finally {\n      delete root._bokeh_onload_callbacks\n    }\n    console.debug(\"Bokeh: all callbacks have finished\");\n  }\n\n  function load_libs(css_urls, js_urls, callback) {\n    if (css_urls == null) css_urls = [];\n    if (js_urls == null) js_urls = [];\n\n    root._bokeh_onload_callbacks.push(callback);\n    if (root._bokeh_is_loading > 0) {\n      console.debug(\"Bokeh: BokehJS is being loaded, scheduling callback at\", now());\n      return null;\n    }\n    if (js_urls == null || js_urls.length === 0) {\n      run_callbacks();\n      return null;\n    }\n    console.debug(\"Bokeh: BokehJS not loaded, scheduling load and callback at\", now());\n    root._bokeh_is_loading = css_urls.length + js_urls.length;\n\n    function on_load() {\n      root._bokeh_is_loading--;\n      if (root._bokeh_is_loading === 0) {\n        console.debug(\"Bokeh: all BokehJS libraries/stylesheets loaded\");\n        run_callbacks()\n      }\n    }\n\n    function on_error(url) {\n      console.error(\"failed to load \" + url);\n    }\n\n    for (let i = 0; i < css_urls.length; i++) {\n      const url = css_urls[i];\n      const element = document.createElement(\"link\");\n      element.onload = on_load;\n      element.onerror = on_error.bind(null, url);\n      element.rel = \"stylesheet\";\n      element.type = \"text/css\";\n      element.href = url;\n      console.debug(\"Bokeh: injecting link tag for BokehJS stylesheet: \", url);\n      document.body.appendChild(element);\n    }\n\n    for (let i = 0; i < js_urls.length; i++) {\n      const url = js_urls[i];\n      const element = document.createElement('script');\n      element.onload = on_load;\n      element.onerror = on_error.bind(null, url);\n      element.async = false;\n      element.src = url;\n      console.debug(\"Bokeh: injecting script tag for BokehJS library: \", url);\n      document.head.appendChild(element);\n    }\n  };\n\n  function inject_raw_css(css) {\n    const element = document.createElement(\"style\");\n    element.appendChild(document.createTextNode(css));\n    document.body.appendChild(element);\n  }\n\n  \n  const js_urls = [\"https://cdn.bokeh.org/bokeh/release/bokeh-2.4.2.min.js\", \"https://cdn.bokeh.org/bokeh/release/bokeh-gl-2.4.2.min.js\", \"https://cdn.bokeh.org/bokeh/release/bokeh-widgets-2.4.2.min.js\", \"https://cdn.bokeh.org/bokeh/release/bokeh-tables-2.4.2.min.js\", \"https://cdn.bokeh.org/bokeh/release/bokeh-mathjax-2.4.2.min.js\"];\n  const css_urls = [];\n  \n\n  const inline_js = [\n    function(Bokeh) {\n      Bokeh.set_log_level(\"info\");\n    },\n    function(Bokeh) {\n    \n    \n    }\n  ];\n\n  function run_inline_js() {\n    \n    if (root.Bokeh !== undefined || force === true) {\n      \n    for (let i = 0; i < inline_js.length; i++) {\n      inline_js[i].call(root, root.Bokeh);\n    }\n    if (force === true) {\n        display_loaded();\n      }} else if (Date.now() < root._bokeh_timeout) {\n      setTimeout(run_inline_js, 100);\n    } else if (!root._bokeh_failed_load) {\n      console.log(\"Bokeh: BokehJS failed to load within specified timeout.\");\n      root._bokeh_failed_load = true;\n    } else if (force !== true) {\n      const cell = $(document.getElementById(\"1859\")).parents('.cell').data().cell;\n      cell.output_area.append_execute_result(NB_LOAD_WARNING)\n    }\n\n  }\n\n  if (root._bokeh_is_loading === 0) {\n    console.debug(\"Bokeh: BokehJS loaded, going straight to plotting\");\n    run_inline_js();\n  } else {\n    load_libs(css_urls, js_urls, function() {\n      console.debug(\"Bokeh: BokehJS plotting callback run at\", now());\n      run_inline_js();\n    });\n  }\n}(window));",
      "application/vnd.bokehjs_load.v0+json": ""
     },
     "metadata": {},
     "output_type": "display_data"
    }
   ],
   "source": [
    "# Display in notebook\n",
    "\n",
    "# output_notebook()\n",
    "\n",
    "# Save as HTML\n",
    "\n",
    "# output_file('sieges.html', title='Historical Battles & Sieges by Number of Casualties')"
   ]
  },
  {
   "cell_type": "code",
   "execution_count": 50,
   "id": "75b64445-ea2d-42b1-a13d-8e5539d5c714",
   "metadata": {},
   "outputs": [
    {
     "data": {
      "text/html": [
       "\n",
       "\n",
       "\n",
       "\n",
       "\n",
       "\n",
       "  <div class=\"bk-root\" id=\"a61c8a68-5b64-4bc5-940e-a6bf7c9a6419\" data-root-id=\"1802\"></div>\n"
      ]
     },
     "metadata": {},
     "output_type": "display_data"
    },
    {
     "data": {
      "application/javascript": "(function(root) {\n  function embed_document(root) {\n    \n  const docs_json = {\"cffe8613-aedf-48f0-a5d7-e32fcace8444\":{\"defs\":[],\"roots\":{\"references\":[{\"attributes\":{\"below\":[{\"id\":\"1813\"}],\"center\":[{\"id\":\"1820\"},{\"id\":\"1828\"}],\"left\":[{\"id\":\"1821\"}],\"renderers\":[{\"id\":\"1845\"},{\"id\":\"1853\"}],\"right\":[{\"id\":\"1858\"}],\"title\":{\"id\":\"1803\"},\"toolbar\":{\"id\":\"1837\"},\"x_range\":{\"id\":\"1805\"},\"x_scale\":{\"id\":\"1809\"},\"y_range\":{\"id\":\"1807\"},\"y_scale\":{\"id\":\"1811\"}},\"id\":\"1802\",\"subtype\":\"Figure\",\"type\":\"Plot\"},{\"attributes\":{},\"id\":\"1832\",\"type\":\"SaveTool\"},{\"attributes\":{},\"id\":\"1811\",\"type\":\"LinearScale\"},{\"attributes\":{\"coordinates\":null,\"data_source\":{\"id\":\"1064\"},\"glyph\":{\"id\":\"1850\"},\"group\":null,\"hover_glyph\":null,\"muted_glyph\":{\"id\":\"1852\"},\"nonselection_glyph\":{\"id\":\"1851\"},\"view\":{\"id\":\"1854\"}},\"id\":\"1853\",\"type\":\"GlyphRenderer\"},{\"attributes\":{},\"id\":\"1132\",\"type\":\"UnionRenderers\"},{\"attributes\":{},\"id\":\"1133\",\"type\":\"Selection\"},{\"attributes\":{\"source\":{\"id\":\"1064\"}},\"id\":\"1854\",\"type\":\"CDSView\"},{\"attributes\":{\"high\":2809000,\"low\":7000,\"palette\":[\"#00441b\",\"#1b7837\",\"#5aae61\",\"#a6dba0\",\"#d9f0d3\",\"#f7f7f7\",\"#e7d4e8\",\"#c2a5cf\",\"#9970ab\",\"#762a83\",\"#40004b\"]},\"id\":\"1065\",\"type\":\"LinearColorMapper\"},{\"attributes\":{},\"id\":\"1833\",\"type\":\"ResetTool\"},{\"attributes\":{},\"id\":\"1805\",\"type\":\"DataRange1d\"},{\"attributes\":{\"coordinates\":null,\"group\":null,\"tile_source\":{\"id\":\"1063\"}},\"id\":\"1845\",\"type\":\"TileRenderer\"},{\"attributes\":{},\"id\":\"1889\",\"type\":\"AllLabels\"},{\"attributes\":{\"axis_label\":\"Longitude\",\"coordinates\":null,\"formatter\":{\"id\":\"1816\"},\"group\":null,\"major_label_policy\":{\"id\":\"1889\"},\"ticker\":{\"id\":\"1814\"}},\"id\":\"1813\",\"type\":\"MercatorAxis\"},{\"attributes\":{\"attribution\":\"Map tiles by <a href=\\\"https://stamen.com\\\">Stamen Design</a>, under <a href=\\\"https://creativecommons.org/licenses/by/3.0\\\">CC BY 3.0</a>. Data by <a href=\\\"https://openstreetmap.org\\\">OpenStreetMap</a>, under <a href=\\\"https://www.openstreetmap.org/copyright\\\">ODbL</a>.\",\"url\":\"https://stamen-tiles.a.ssl.fastly.net/toner/{Z}/{X}/{Y}.png\"},\"id\":\"1063\",\"type\":\"WMTSTileSource\"},{\"attributes\":{\"coordinates\":null,\"group\":null,\"text\":\"Historical Battles & Sieges by Number of Casualties\"},\"id\":\"1803\",\"type\":\"Title\"},{\"attributes\":{\"bottom_units\":\"screen\",\"coordinates\":null,\"fill_alpha\":0.5,\"fill_color\":\"lightgrey\",\"group\":null,\"left_units\":\"screen\",\"level\":\"overlay\",\"line_alpha\":1.0,\"line_color\":\"black\",\"line_dash\":[4,4],\"line_width\":2,\"right_units\":\"screen\",\"syncable\":false,\"top_units\":\"screen\"},\"id\":\"1835\",\"type\":\"BoxAnnotation\"},{\"attributes\":{\"dimension\":\"lon\"},\"id\":\"1816\",\"type\":\"MercatorTickFormatter\"},{\"attributes\":{\"dimension\":\"lat\"},\"id\":\"1822\",\"type\":\"MercatorTicker\"},{\"attributes\":{\"format\":\"0.0[0000]\"},\"id\":\"1857\",\"type\":\"NumeralTickFormatter\"},{\"attributes\":{\"data\":{\"Casualties\":[40000,65000,150000,40000,1175000,170000,55000,35000,20000,19000,23000,64000,100000,19000,70000,50000,37000,100000,93000,714000,130000,200000,400000,540000,80000,75000,134000,120000,85000,1524000,100000,116000,2809000,200000,422000,1299000,425000,701000,300000,62000,7000],\"Conflict\":[\"Phoenician rebellion against Persia\",\"First Jewish\\u2013Roman War\",\"Arab\\u2013Byzantine wars\",\"First Crusade\",\"Mongol conquests\",\"Spanish conquest of the Aztec Empire\",\"Ottoman wars in Europe\",\"Ottoman wars in Europe\",\"Japanese invasions of Korea (1592\\u201398)\",\"French Wars of Religion\",\"Thirty Years' War\",\"Peninsular War\",\"Taiping Rebellion\",\"American Civil War\",\"American Civil War\",\"American Civil War\",\"Russo-Turkish War\",\"Russo-Japanese War\",\"First Balkan War\",\"World War I\",\"Second Sino-Japanese War\",\"Second Sino-Japanese War\",\"Second Sino-Japanese War\",\"Second Sino-Japanese War\",\"Second Sino-Japanese War\",\"Second Sino-Japanese War\",\"World War II\",\"Second Sino-Japanese War\",\"Second Sino-Japanese War\",\"World War II\",\"Second Sino-Japanese War\",\"Second Sino-Japanese War\",\"World War II\",\"World War II\",\"World War II\",\"World War II\",\"Chinese Civil War\",\"World War II\",\"World War II\",\"Bosnian War\",\"Croatian War of Independence\"],\"Siege\":[\"Siege of Sidon\",\"Siege of Jerusalem\",\"Siege of Constantinople\",\"Siege of Jerusalem\",\"Siege of Baghdad\",\"Siege of Tenochtitlan\",\"Siege of Rhodes\",\"Great Siege of Malta\",\"Siege of Ulsan\",\"Siege of La Rochelle\",\"Sack of Magdeburg\",\"Second Siege of Zaragoza\",\"Third Battle of Nanking\",\"Siege of Vicksburg\",\"Siege of Petersburg\",\"Battle of Gettysburg\",\"Siege of Plevna\",\"Siege of Port Arthur\",\"Siege of Adrianople\",\"Battle of Verdun\",\"Battle of Taiyuan\",\"Battle of Xinkou\",\"Battle of Shanghai\",\"Battle of Wuhan\",\"First Battle of Changsha\",\"Battle of Nanchang\",\"Siege of Odessa\",\"Battle of South Shanxi\",\"Third Battle of Changsha\",\"Battle of Stalingrad\",\"Battle of Changde\",\"Battle of West Hubei\",\"Siege of Leningrad\",\"Warsaw Uprising\",\"Siege of Budapest\",\"Battle of Berlin\",\"Siege of Changchun\",\"Battle of Kiev\",\"Battle of Manila\",\"Siege of Sarajevo\",\"Battle of Vukovar\"],\"Year\":[-343,70,717,1099,1258,1521,1522,1565,1597,1627,1630,1808,1863,1863,1864,1863,1877,1904,1912,1916,1937,1937,1937,1938,1939,1939,1941,1941,1942,1942,1943,1943,1941,1944,1944,1945,1948,1941,1945,1992,1991],\"coordinates\":[[33.5570691,35.372948],[31.768319,35.21371],[41.0082376,28.9783589],[31.768319,35.21371],[33.3128057,44.3614875],[19.8078194,-96.9159526],[36.4340533,28.2176379],[35.937496,14.375416],[35.5383773,129.3113596],[46.160329,-1.151139],[52.1205333,11.6276237],[41.6488226,-0.8890853],[32.060255,118.796877],[32.3526456,-90.877882],[37.2279279,-77.4019267],[39.8309293,-77.2310955],[43.4170423,24.6066847],[38.851705,121.261953],[41.6771297,26.5557145],[49.1598764,5.3844231],[37.87059,112.548879],[34.060601,108.150494],[31.230416,121.473701],[30.593099,114.305393],[28.24615,113.08081],[28.682892,115.858198],[46.482526,30.7233095],[37.873499,112.562678],[28.24615,113.08081],[48.708048,44.5133034],[29.031673,111.698497],[30.546558,114.341745],[59.93549,30.330477],[52.2296756,21.0122287],[47.497912,19.040235],[52.5200066,13.404954],[43.817072,125.323544],[50.4501,30.5234],[14.5995124,120.9842195],[43.8562586,18.4130763],[45.3452377,19.0010204]],\"index\":[1,2,3,4,5,6,7,8,9,10,11,12,13,14,15,16,17,18,19,20,21,22,23,24,25,26,27,28,29,30,31,32,33,34,35,36,37,38,39,40,41],\"lat\":{\"__ndarray__\":\"Ww5PCk7HQEA75dGNsMQ/QHxM/+0NgURAO+XRjbDEP0BOwGUECqhAQAgTkEDNzjNARhz8Do83QkC/EHLe//dBQFM0IIzpxEFA2cwhqYUUR0AbypqibQ9KQO7zc54M00RA0jWTb7YHQEAGirN9Iy1AQEgszr0snUJA42Qs5FvqQ0A5xl+kYbVFQHtrYKsEbUNAPVOeL6zWREB8s3LUdpRIQMEcPX5v70JAbY0IxsEHQUCjeQCL/Do/QFFKCFbVlz5AEOm3rwM/PEA1s5YC0q48QB+8dmnDPUdAWwuz0M7vQkAQ6bevAz88QMX/HVGhWkhAjSrDuBsIPUD/XZ8564s+QBbe5SK+901AN1iTAmYdSkCaJJaUu79HQCJahpOPQkpAGT230JXoRUD99nXgnDlJQMsXD0rzMi1AmfW94ZntRUBSbLu/MKxGQA==\",\"dtype\":\"float64\",\"order\":\"little\",\"shape\":[41]},\"lon\":{\"__ndarray__\":\"542TwryvQUABamrZWptBQCNAl7p1+jxAAWpq2VqbQUDXNO84RS5GQOprp/eeOljAwN4OHrc3PEBPyqSGNsAsQHZpaKj2KWBA/WZiuhBr8r+XY8PkV0EnQNNW2wNjc+y/0HtjCACzXUDQ7/s3L7hWwOn4wyq5WVPALbDHRMpOU8DLe0GwT5s4QLQFhNbDUF5AumkzTkOOOkDJTok1pokVQISdYtUgI1xAoQ+WsaEJW0BIxf8dUV5eQFnbFI+Lk1xAJcy0/StFXECH30237PZcQNhit88quT5AcAuW6gIkXEAlzLT9K0VcQHr2Ae2zQUZAqtbCLLTsW0CUpGsm35VcQIcUAySaVD5AlpKKayEDNUCRJ0nXTAozQM7EdCFWzypASrTk8bRUX0D1udqK/YU+QHglyXP9Pl5AsEBPXr9pMkD8oHjfQgAzQA==\",\"dtype\":\"float64\",\"order\":\"little\",\"shape\":[41]},\"mercator\":[[3937698.559216945,3969481.16396569],[3919972.266142005,3732937.169451003],[3225856.156772727,5013556.783905713],[3919972.266142005,3732937.169451003],[4938298.199332171,3936897.672595947],[-10788634.493177038,2250278.3396803644],[3141173.0824169773,4360511.982128354],[1600263.9890614776,4292024.3228296945],[14394874.70445789,4237287.303128654],[-128144.20731227814,5806079.385575146],[1294381.1494197994,6821948.831223481],[-98972.52286778486,5108519.0699142795],[13224407.855471153,3771222.6336242836],[-10116479.548611203,3809690.3798374017],[-8616343.066662285,4470924.795512103],[-8597326.224466681,4841403.717374422],[2739203.6109146355,5375666.913108547],[13498818.860557873,4700451.792212383],[2956168.6157915513,5112737.069485053],[599391.2377075396,6302032.742096864],[12528883.899633761,4561160.615536586],[12039257.921120988,4036942.165347318],[13522390.540094366,3662709.3400048204],[12724418.143685017,3580017.2881245194],[12588098.187690917,3280043.2680968735],[12897275.605586266,3335346.871173613],[3420103.1690241443,5858014.419362025],[12530419.99728722,4561570.844927715],[12588098.187690917,3280043.2680968735],[4955198.2680144925,6225467.659886557],[12434219.808413997,3379677.916074208],[12728464.829814335,3574000.0283079348],[3376373.255157096,8385389.432269505],[2339070.5993158086,6841760.762317303],[2119549.2647842653,6023728.078752173],[1492232.6533872557,6894701.008722784],[13950953.102488415,5437177.156355868],[3397849.3452794063,6524593.221531112],[13467901.708761636,1643088.1717615216],[2049734.2776536937,5443224.749369924],[2115183.9154806035,5676036.834176266]],\"mercator_x\":{\"__ndarray__\":\"vWuUR9EKTkH08BAiMuhNQfQgERSAnEhB9PAQIjLoTUG528GMjtZSQTYbyE/jk2TBt6OMihr3R0EMIjP9B2s4QUbrila/dGtB660mUQNJ/8BAYEAmLcAzQUKcql3IKfjACgVg+zo5aUEVOY7xr0tjwfIYIuIyb2DBwNQux+llYMFmczLOAeZEQaqwiVs4v2lB70HSTsSNRkF5zbR5vkoiQb7MyXye5WdBudJ5PYv2ZkH7c0jRusppQVIRmUQYRWhBYpABRogCaEFz9mBzf5loQUqVopXjF0pB48bpf17mZ0FikAFGiAJoQUImJ5EP51JBCIfeeWW3Z0HL1o0aEkdoQdv8qKB6wklBY2G2TH/YQUFoc+ShvitAQR9jRKcIxTZByZVHI/2bakGXHTKsbOxJQeIsrrYfsGlB/k8UR8ZGP0Hqdy71NyNAQQ==\",\"dtype\":\"float64\",\"order\":\"little\",\"shape\":[41]},\"mercator_y\":{\"__ndarray__\":\"5tP8lORITkEKkrCV5HpMQd6CKzINIFNBCpKwleR6TEG+nxfWQAlOQWyleisTK0FB4jDb/k+iUEHhPakUbl9QQbp1ZtP5KVBBYUOt2P8lVkH5wzI1DwZaQb55ecTJfFNBvJkaUavFTEERg54wzRBNQZir6TIjDlFBaHbp7e53UkHVXnC6rIFUQZGbs/JI7lFBcHFyROiAU0HYg34vVApYQZHzZCdCZlFB1hkqFafMTkEoR4WruvFLQaZD4aQ4UEtBlP9QolUGSUHwnYJvWXJJQdLT1pq3WFZBsksTtqhmUUGU/1CiVQZJQdOUO+qOv1dBbutB9e7ISUErmJ8DeERLQbdNqlvb/F9Bg87JMGgZWkGORgoFjPpWQQLqjkAbTVpBC7wBSr69VEHUkC1OrONYQSaQ+CtQEjlBRa31L6bDVEHZJGM1AadVQQ==\",\"dtype\":\"float64\",\"order\":\"little\",\"shape\":[41]}},\"selected\":{\"id\":\"1133\"},\"selection_policy\":{\"id\":\"1132\"}},\"id\":\"1064\",\"type\":\"ColumnDataSource\"},{\"attributes\":{},\"id\":\"1885\",\"type\":\"AllLabels\"},{\"attributes\":{},\"id\":\"1830\",\"type\":\"WheelZoomTool\"},{\"attributes\":{\"dimension\":\"lon\"},\"id\":\"1814\",\"type\":\"MercatorTicker\"},{\"attributes\":{},\"id\":\"1829\",\"type\":\"PanTool\"},{\"attributes\":{\"color_mapper\":{\"id\":\"1065\"},\"coordinates\":null,\"formatter\":{\"id\":\"1857\"},\"group\":null,\"label_standoff\":13,\"location\":[0,0],\"major_label_policy\":{\"id\":\"1886\"},\"width\":8},\"id\":\"1858\",\"type\":\"ColorBar\"},{\"attributes\":{\"axis\":{\"id\":\"1813\"},\"coordinates\":null,\"group\":null,\"ticker\":null},\"id\":\"1820\",\"type\":\"Grid\"},{\"attributes\":{\"axis_label\":\"Latitude\",\"coordinates\":null,\"formatter\":{\"id\":\"1824\"},\"group\":null,\"major_label_policy\":{\"id\":\"1885\"},\"ticker\":{\"id\":\"1822\"}},\"id\":\"1821\",\"type\":\"MercatorAxis\"},{\"attributes\":{},\"id\":\"1807\",\"type\":\"DataRange1d\"},{\"attributes\":{},\"id\":\"1834\",\"type\":\"HelpTool\"},{\"attributes\":{\"fill_alpha\":{\"value\":0.1},\"fill_color\":{\"field\":\"Casualties\",\"transform\":{\"id\":\"1065\"}},\"hatch_alpha\":{\"value\":0.1},\"hatch_color\":{\"field\":\"Casualties\",\"transform\":{\"id\":\"1065\"}},\"line_alpha\":{\"value\":0.1},\"line_color\":{\"field\":\"Casualties\",\"transform\":{\"id\":\"1065\"}},\"size\":{\"value\":30},\"x\":{\"field\":\"mercator_x\"},\"y\":{\"field\":\"mercator_y\"}},\"id\":\"1851\",\"type\":\"Circle\"},{\"attributes\":{\"fill_alpha\":{\"value\":0.2},\"fill_color\":{\"field\":\"Casualties\",\"transform\":{\"id\":\"1065\"}},\"hatch_alpha\":{\"value\":0.2},\"hatch_color\":{\"field\":\"Casualties\",\"transform\":{\"id\":\"1065\"}},\"line_alpha\":{\"value\":0.2},\"line_color\":{\"field\":\"Casualties\",\"transform\":{\"id\":\"1065\"}},\"size\":{\"value\":30},\"x\":{\"field\":\"mercator_x\"},\"y\":{\"field\":\"mercator_y\"}},\"id\":\"1852\",\"type\":\"Circle\"},{\"attributes\":{\"overlay\":{\"id\":\"1835\"}},\"id\":\"1831\",\"type\":\"BoxZoomTool\"},{\"attributes\":{\"callback\":null,\"tooltips\":[[\"Casualties\",\"@Casualties\"],[\"Siege\",\"@Siege\"],[\"Year\",\"@Year\"]]},\"id\":\"1836\",\"type\":\"HoverTool\"},{\"attributes\":{\"dimension\":\"lat\"},\"id\":\"1824\",\"type\":\"MercatorTickFormatter\"},{\"attributes\":{},\"id\":\"1809\",\"type\":\"LinearScale\"},{\"attributes\":{\"axis\":{\"id\":\"1821\"},\"coordinates\":null,\"dimension\":1,\"group\":null,\"ticker\":null},\"id\":\"1828\",\"type\":\"Grid\"},{\"attributes\":{\"tools\":[{\"id\":\"1829\"},{\"id\":\"1830\"},{\"id\":\"1831\"},{\"id\":\"1832\"},{\"id\":\"1833\"},{\"id\":\"1834\"},{\"id\":\"1836\"}]},\"id\":\"1837\",\"type\":\"Toolbar\"},{\"attributes\":{},\"id\":\"1886\",\"type\":\"NoOverlap\"},{\"attributes\":{\"fill_alpha\":{\"value\":0.7},\"fill_color\":{\"field\":\"Casualties\",\"transform\":{\"id\":\"1065\"}},\"hatch_color\":{\"field\":\"Casualties\",\"transform\":{\"id\":\"1065\"}},\"line_color\":{\"field\":\"Casualties\",\"transform\":{\"id\":\"1065\"}},\"size\":{\"value\":30},\"x\":{\"field\":\"mercator_x\"},\"y\":{\"field\":\"mercator_y\"}},\"id\":\"1850\",\"type\":\"Circle\"}],\"root_ids\":[\"1802\"]},\"title\":\"Bokeh Application\",\"version\":\"2.4.2\"}};\n  const render_items = [{\"docid\":\"cffe8613-aedf-48f0-a5d7-e32fcace8444\",\"root_ids\":[\"1802\"],\"roots\":{\"1802\":\"a61c8a68-5b64-4bc5-940e-a6bf7c9a6419\"}}];\n  root.Bokeh.embed.embed_items_notebook(docs_json, render_items);\n\n  }\n  if (root.Bokeh !== undefined) {\n    embed_document(root);\n  } else {\n    let attempts = 0;\n    const timer = setInterval(function(root) {\n      if (root.Bokeh !== undefined) {\n        clearInterval(timer);\n        embed_document(root);\n      } else {\n        attempts++;\n        if (attempts > 100) {\n          clearInterval(timer);\n          console.log(\"Bokeh: ERROR: Unable to run BokehJS code because BokehJS library is missing\");\n        }\n      }\n    }, 10, root)\n  }\n})(window);",
      "application/vnd.bokehjs_exec.v0+json": ""
     },
     "metadata": {
      "application/vnd.bokehjs_exec.v0+json": {
       "id": "1802"
      }
     },
     "output_type": "display_data"
    }
   ],
   "source": [
    "# Show map\n",
    "\n",
    "# show(p)"
   ]
  },
  {
   "cell_type": "code",
   "execution_count": null,
   "id": "5bc0bc19-dcaf-4008-83e5-faec36e88e93",
   "metadata": {},
   "outputs": [],
   "source": []
  }
 ],
 "metadata": {
  "kernelspec": {
   "display_name": "Python 3 (ipykernel)",
   "language": "python",
   "name": "python3"
  },
  "language_info": {
   "codemirror_mode": {
    "name": "ipython",
    "version": 3
   },
   "file_extension": ".py",
   "mimetype": "text/x-python",
   "name": "python",
   "nbconvert_exporter": "python",
   "pygments_lexer": "ipython3",
   "version": "3.7.11"
  }
 },
 "nbformat": 4,
 "nbformat_minor": 5
}
